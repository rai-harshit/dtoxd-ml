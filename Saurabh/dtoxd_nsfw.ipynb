{
  "nbformat": 4,
  "nbformat_minor": 0,
  "metadata": {
    "accelerator": "GPU",
    "colab": {
      "name": "dtoxd_nsfw.ipynb",
      "provenance": [],
      "collapsed_sections": []
    },
    "kernelspec": {
      "display_name": "Python 3",
      "name": "python3"
    }
  },
  "cells": [
    {
      "cell_type": "markdown",
      "metadata": {
        "id": "PS4Muoo4tTch"
      },
      "source": [
        "**Importing dependencies**"
      ]
    },
    {
      "cell_type": "code",
      "metadata": {
        "id": "S8i75dgashL0"
      },
      "source": [
        "import numpy as np\n",
        "import pandas as pd\n",
        "%matplotlib inline\n",
        "import matplotlib.pyplot as plt\n",
        "\n",
        "import cv2\n",
        "from PIL import Image\n",
        "\n",
        "import os\n",
        "from os.path import exists, join\n",
        "import shutil\n",
        "import random\n",
        "\n",
        "from tensorflow.keras.models import Sequential\n",
        "from tensorflow.keras import optimizers\n",
        "from tensorflow.keras import layers\n",
        "from tensorflow.keras.optimizers import Adam\n",
        "from tensorflow.keras.losses import binary_crossentropy\n",
        "from tensorflow.keras.preprocessing.image import ImageDataGenerator\n",
        "from tensorflow.keras.layers import Dense, Conv2D,  Activation, MaxPooling2D, Dropout\n",
        "from tensorflow.keras.applications import mobilenet_v2\n",
        "from tensorflow.keras.preprocessing import image\n",
        "from tensorflow.keras.callbacks import EarlyStopping\n",
        "import tensorflow as tf\n",
        "\n",
        "from keras.callbacks import TensorBoard,ModelCheckpoint\n",
        "# Load the TensorBoard notebook extension\n",
        "%reload_ext tensorboard"
      ],
      "execution_count": null,
      "outputs": []
    },
    {
      "cell_type": "markdown",
      "metadata": {
        "id": "Jx7dZf7Xteg9"
      },
      "source": [
        "**Mounting google drive to get data**"
      ]
    },
    {
      "cell_type": "code",
      "metadata": {
        "id": "rDo-w8qwtlez",
        "colab": {
          "base_uri": "https://localhost:8080/"
        },
        "outputId": "67b33195-b610-42cb-f77c-ca96c4ba350c"
      },
      "source": [
        "import zipfile\n",
        "from google.colab import drive\n",
        "drive.mount('/content/drive', force_remount= True)\n",
        "\n",
        "#changing directory to working directory\n",
        "os.chdir(\"/content/drive/My Drive/dtoxd_nsfw/Data\")"
      ],
      "execution_count": null,
      "outputs": [
        {
          "output_type": "stream",
          "text": [
            "Mounted at /content/drive\n"
          ],
          "name": "stdout"
        }
      ]
    },
    {
      "cell_type": "markdown",
      "metadata": {
        "id": "jnrOmBHTt3sh"
      },
      "source": [
        "**Preparing data (Data pre-processing)**"
      ]
    },
    {
      "cell_type": "code",
      "metadata": {
        "id": "iP0HpmOet9aA",
        "colab": {
          "base_uri": "https://localhost:8080/"
        },
        "outputId": "fd2b64de-77f5-4563-8f81-8e3c92edcfc7"
      },
      "source": [
        "#create data generators\n",
        "train_datagen = ImageDataGenerator(rescale=1.0/255.0,\twidth_shift_range=0.1, height_shift_range=0.1, horizontal_flip=True)\n",
        "test_datagen = ImageDataGenerator(rescale=1.0/255.0)\n",
        "val_datagen = ImageDataGenerator(rescale=1.0/255.0,width_shift_range=0.1, height_shift_range=0.1, horizontal_flip=True)\n",
        "#prepare iterators\n",
        "train_it = train_datagen.flow_from_directory('/content/drive/My Drive/dtoxd_nsfw/Data/training',class_mode='binary', batch_size=32, target_size=(224, 224))\n",
        "val_it = val_datagen.flow_from_directory('/content/drive/My Drive/dtoxd_nsfw/Data/validation',class_mode='binary', batch_size=32, target_size=(224, 224))\n",
        "#load and iterate test dataset\n",
        "test_it = test_datagen.flow_from_directory('/content/drive/My Drive/dtoxd_nsfw/Data/testing', class_mode='binary', batch_size=32, target_size=(224, 224))"
      ],
      "execution_count": null,
      "outputs": [
        {
          "output_type": "stream",
          "text": [
            "Found 65337 images belonging to 2 classes.\n",
            "Found 7779 images belonging to 2 classes.\n",
            "Found 24 images belonging to 2 classes.\n"
          ],
          "name": "stdout"
        }
      ]
    },
    {
      "cell_type": "markdown",
      "metadata": {
        "id": "bc0FhcM4uaQ4"
      },
      "source": [
        "**Model**"
      ]
    },
    {
      "cell_type": "code",
      "metadata": {
        "id": "o5wbpKjFudai",
        "colab": {
          "base_uri": "https://localhost:8080/"
        },
        "outputId": "02ad17f1-48ac-46c9-9e63-5f4c63875435"
      },
      "source": [
        "#transfer learning using MobileNet_V2\n",
        "model_mobilenet_v2 = tf.keras.applications.MobileNetV2(input_shape=(224,224,3) ,include_top=False, weights='imagenet')\n",
        "\n",
        "model = tf.keras.Sequential()\n",
        "\n",
        "#freezing mobilenet_v2 layers (saving its original weights)\n",
        "model_mobilenet_v2.trainable = False\n",
        "#copy mobilenet_v2 layers into our model\n",
        "model.add(model_mobilenet_v2)\n",
        "#Adding our own layers\n",
        "model.add(tf.keras.layers.GlobalAveragePooling2D()) \n",
        "model.add(tf.keras.layers.Dense(128, activation='relu'))\n",
        "model.add(tf.keras.layers.Dropout(0.5))\n",
        "model.add(tf.keras.layers.Dense(1 , activation='sigmoid'))\n",
        "model.compile(optimizer= 'Adam', metrics=['accuracy'], loss='binary_crossentropy')\n",
        "\n",
        "model.summary()"
      ],
      "execution_count": null,
      "outputs": [
        {
          "output_type": "stream",
          "text": [
            "Model: \"sequential_2\"\n",
            "_________________________________________________________________\n",
            "Layer (type)                 Output Shape              Param #   \n",
            "=================================================================\n",
            "mobilenetv2_1.00_224 (Functi (None, 7, 7, 1280)        2257984   \n",
            "_________________________________________________________________\n",
            "global_average_pooling2d_2 ( (None, 1280)              0         \n",
            "_________________________________________________________________\n",
            "dense_5 (Dense)              (None, 128)               163968    \n",
            "_________________________________________________________________\n",
            "dropout_2 (Dropout)          (None, 128)               0         \n",
            "_________________________________________________________________\n",
            "dense_6 (Dense)              (None, 1)                 129       \n",
            "=================================================================\n",
            "Total params: 2,422,081\n",
            "Trainable params: 164,097\n",
            "Non-trainable params: 2,257,984\n",
            "_________________________________________________________________\n"
          ],
          "name": "stdout"
        }
      ]
    },
    {
      "cell_type": "markdown",
      "metadata": {
        "id": "Flmg-fQWuyIM"
      },
      "source": [
        "**Training**"
      ]
    },
    {
      "cell_type": "code",
      "metadata": {
        "id": "qKDCFuwwu2Xn",
        "colab": {
          "base_uri": "https://localhost:8080/"
        },
        "outputId": "91daae88-00fe-491e-9288-33b6f9977b0a"
      },
      "source": [
        "early_stop = EarlyStopping(monitor='val_loss',patience=3)\n",
        "#train/validate model\n",
        "history = model.fit(train_it, epochs=10, validation_data=val_it , verbose=1,callbacks = [early_stop])"
      ],
      "execution_count": null,
      "outputs": [
        {
          "output_type": "stream",
          "text": [
            "Epoch 1/10\n",
            "1026/2042 [==============>...............] - ETA: 2:25:38 - loss: 0.2014 - accuracy: 0.9196"
          ],
          "name": "stdout"
        },
        {
          "output_type": "stream",
          "text": [
            "/usr/local/lib/python3.6/dist-packages/PIL/Image.py:2766: DecompressionBombWarning: Image size (138012160 pixels) exceeds limit of 89478485 pixels, could be decompression bomb DOS attack.\n",
            "  DecompressionBombWarning,\n"
          ],
          "name": "stderr"
        },
        {
          "output_type": "stream",
          "text": [
            "2042/2042 [==============================] - 19766s 10s/step - loss: 0.1804 - accuracy: 0.9293 - val_loss: 0.2816 - val_accuracy: 0.8961\n",
            "Epoch 2/10\n",
            "2042/2042 [==============================] - 911s 446ms/step - loss: 0.1301 - accuracy: 0.9510 - val_loss: 0.2445 - val_accuracy: 0.9017\n",
            "Epoch 3/10\n",
            "2042/2042 [==============================] - 915s 448ms/step - loss: 0.1216 - accuracy: 0.9546 - val_loss: 0.2393 - val_accuracy: 0.9077\n",
            "Epoch 4/10\n",
            "2042/2042 [==============================] - 910s 446ms/step - loss: 0.1148 - accuracy: 0.9577 - val_loss: 0.2520 - val_accuracy: 0.9085\n",
            "Epoch 5/10\n",
            "2042/2042 [==============================] - 910s 446ms/step - loss: 0.1110 - accuracy: 0.9586 - val_loss: 0.2449 - val_accuracy: 0.9080\n",
            "Epoch 6/10\n",
            "2042/2042 [==============================] - 910s 445ms/step - loss: 0.1089 - accuracy: 0.9587 - val_loss: 0.2290 - val_accuracy: 0.9128\n",
            "Epoch 7/10\n",
            "2042/2042 [==============================] - 910s 446ms/step - loss: 0.1079 - accuracy: 0.9600 - val_loss: 0.2524 - val_accuracy: 0.9062\n",
            "Epoch 8/10\n",
            "2042/2042 [==============================] - 910s 446ms/step - loss: 0.1005 - accuracy: 0.9628 - val_loss: 0.2330 - val_accuracy: 0.9096\n",
            "Epoch 9/10\n",
            "2042/2042 [==============================] - 907s 444ms/step - loss: 0.1027 - accuracy: 0.9616 - val_loss: 0.2325 - val_accuracy: 0.9137\n"
          ],
          "name": "stdout"
        }
      ]
    },
    {
      "cell_type": "markdown",
      "metadata": {
        "id": "fC58crtgu-YF"
      },
      "source": [
        "**Visualization**"
      ]
    },
    {
      "cell_type": "code",
      "metadata": {
        "id": "FdYcpv3lu_mj",
        "colab": {
          "base_uri": "https://localhost:8080/",
          "height": 499
        },
        "outputId": "17a5f0c4-c582-4d06-c181-47541ce82279"
      },
      "source": [
        "acc = history.history['accuracy']\n",
        "val_acc = history.history['val_accuracy']\n",
        "\n",
        "loss = history.history['loss']\n",
        "val_loss = history.history['val_loss']\n",
        "\n",
        "plt.figure(figsize=(8, 8))\n",
        "plt.subplot(2, 1, 1)\n",
        "plt.plot(acc, label='Training Accuracy')\n",
        "plt.plot(val_acc, label='Validation Accuracy')\n",
        "plt.legend(loc='lower right')\n",
        "plt.ylabel('Accuracy')\n",
        "plt.ylim([min(plt.ylim()),1])\n",
        "plt.title('Training and Validation Accuracy')\n",
        "\n",
        "plt.subplot(2, 1, 2)\n",
        "plt.plot(loss, label='Training Loss')\n",
        "plt.plot(val_loss, label='Validation Loss')\n",
        "plt.legend(loc='upper right')\n",
        "plt.ylabel('Cross Entropy')\n",
        "plt.ylim([0,max(plt.ylim())])\n",
        "plt.title('Training and Validation Loss')\n",
        "plt.show()"
      ],
      "execution_count": null,
      "outputs": [
        {
          "output_type": "display_data",
          "data": {
            "image/png": "[encoded data removed]",
            "text/plain": [
              "<Figure size 576x576 with 2 Axes>"
            ]
          },
          "metadata": {
            "tags": [],
            "needs_background": "light"
          }
        }
      ]
    },
    {
      "cell_type": "markdown",
      "metadata": {
        "id": "WnO6b8xdvDbI"
      },
      "source": [
        "**Prediction**"
      ]
    },
    {
      "cell_type": "code",
      "metadata": {
        "id": "VqDtzva3vEic",
        "colab": {
          "base_uri": "https://localhost:8080/"
        },
        "outputId": "ba44b59f-6c29-4649-9933-07ddf2066bca"
      },
      "source": [
        "class_names = sorted(train_it.class_indices.items(), key=lambda pair:pair[1])\n",
        "class_names = np.array([key.title() for key, value in class_names])\n",
        "print (class_names)\n",
        "img = cv2.imread('/content/drive/My Drive/dtoxd_nsfw/Data/training/safe/2.jpeg')\n",
        "img = cv2.resize(img,(224,224))\n",
        "img = np.reshape(img,[1,224,224,3])\n",
        "prediction = model.predict(img)\n",
        "print(prediction)\n",
        "predicted_id = np.argmax(prediction, axis=-1)\n",
        "predicted_label_batch = class_names[predicted_id]\n",
        "print (predicted_label_batch)"
      ],
      "execution_count": null,
      "outputs": [
        {
          "output_type": "stream",
          "text": [
            "['Explicit' 'Safe']\n",
            "[[0.9972445]]\n",
            "['Explicit']\n"
          ],
          "name": "stdout"
        }
      ]
    },
    {
      "cell_type": "markdown",
      "metadata": {
        "id": "0JEqSXzffGfo"
      },
      "source": [
        "**Save the model and convert it to TF lite**"
      ]
    },
    {
      "cell_type": "code",
      "metadata": {
        "id": "y0fj9epcfPQt"
      },
      "source": [
        "#Saving the model\n",
        "mymodel = tf.keras.models.save_model(model, '/content/drive/My Drive/dtoxd_nsfw', overwrite=True, include_optimizer=True)\n",
        "\n",
        "#Tf Lite\n",
        "# Convert the model\n",
        "converter = tf.lite.TFLiteConverter.from_saved_model(model) \n",
        "tflite_model = converter.convert()\n",
        "\n",
        "# Save the model\n",
        "with open('dtoxd_model.tflite', 'wb') as f:\n",
        "  f.write(tflite_model)"
      ],
      "execution_count": null,
      "outputs": []
    }
  ]
}